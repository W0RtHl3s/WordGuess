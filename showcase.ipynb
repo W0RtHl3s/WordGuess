{
 "cells": [
  {
   "cell_type": "code",
   "execution_count": 9,
   "id": "891f242f",
   "metadata": {},
   "outputs": [
    {
     "data": {
      "text/plain": [
       "False"
      ]
     },
     "execution_count": 9,
     "metadata": {},
     "output_type": "execute_result"
    }
   ],
   "source": [
    "from src.utils import generate_csv_data\n",
    "from src.shared import singleton_engine\n",
    "from src.models import WordsEn\n",
    "from src.models.data.get_word_en import GetWordEn\n",
    "from sqlalchemy import text\n",
    "from pathlib import Path\n",
    "from dotenv import load_dotenv\n",
    "from pprint import pprint\n",
    "\n",
    "load_dotenv(dotenv_path=Path.cwd(), override=True)"
   ]
  },
  {
   "cell_type": "code",
   "execution_count": 2,
   "id": "112c6891",
   "metadata": {},
   "outputs": [],
   "source": [
    "# Might be my skill issue or kernel's chaos, but in notebook downloading is extremly slow, so don't use util for csv generation with preloaded_data=False here\n",
    "generated_csv_path = generate_csv_data()"
   ]
  },
  {
   "cell_type": "code",
   "execution_count": 3,
   "id": "d67e605b",
   "metadata": {},
   "outputs": [],
   "source": [
    "# Used single time for creating extension, table, index and copying data from generated .csv file\n",
    "with singleton_engine.connect() as conn:\n",
    "    conn.execute(text('CREATE EXTENSION IF NOT EXISTS vector'))\n",
    "    creation_query = \"\"\"\n",
    "                        CREATE TABLE words_en (\n",
    "                        id UUID DEFAULT gen_random_uuid() PRIMARY KEY, \n",
    "                        word varchar(20) NOT NULL,\n",
    "                        embedding vector(300) \n",
    "                        );\n",
    "                        CREATE INDEX ON words_en USING hnsw (embedding vector_cosine_ops);\n",
    "                     \"\"\"\n",
    "    conn.execute(text(creation_query))\n",
    "    copy_query = f\"\"\"\n",
    "                    COPY words_en (word, embedding) FROM '{generated_csv_path}' DELIMITER ',' CSV;\n",
    "                 \"\"\"\n",
    "    conn.execute(text(copy_query))\n",
    "    conn.commit()"
   ]
  },
  {
   "cell_type": "code",
   "execution_count": null,
   "id": "088a9fda",
   "metadata": {},
   "outputs": [
    {
     "name": "stdout",
     "output_type": "stream",
     "text": [
      "[GetWordEn(word='woman', distance=1.0),\n",
      " GetWordEn(word='man', distance=0.7664013747067495),\n",
      " GetWordEn(word='girl', distance=0.7494641774911672),\n",
      " GetWordEn(word='teenager', distance=0.631708604958935),\n",
      " GetWordEn(word='lady', distance=0.6288786571651082),\n",
      " GetWordEn(word='mother', distance=0.6076306670085915),\n",
      " GetWordEn(word='boy', distance=0.5975908768400086),\n",
      " GetWordEn(word='she', distance=0.5641393359770321),\n",
      " GetWordEn(word='person', distance=0.5470173400209332),\n",
      " GetWordEn(word='housewife', distance=0.5463822760355982)]\n"
     ]
    }
   ],
   "source": [
    "# Test query to verify everything works smoothly\n",
    "def test_cosine_similarity(word: str, limit: int) -> list[GetWordEn]:\n",
    "    with singleton_engine.connect() as conn:\n",
    "        test_query = f\"\"\"\n",
    "                        SELECT word, 1 - (embedding <=> (SELECT embedding from words_en WHERE word = :word)) as distance\n",
    "                        FROM words_en\n",
    "                        ORDER BY distance DESC\n",
    "                        LIMIT :limit;\n",
    "                     \"\"\"\n",
    "        result = conn.execute(text(test_query), {\"word\": word, \"limit\": limit}).all()\n",
    "    similar_words = []\n",
    "    for row in result:\n",
    "        similar_words.append(GetWordEn(word=row[0], distance=row[1]))\n",
    "    \n",
    "    return similar_words\n",
    "\n",
    "pprint(test_cosine_similarity(word='woman', limit=10))"
   ]
  }
 ],
 "metadata": {
  "kernelspec": {
   "display_name": ".venv",
   "language": "python",
   "name": "python3"
  },
  "language_info": {
   "codemirror_mode": {
    "name": "ipython",
    "version": 3
   },
   "file_extension": ".py",
   "mimetype": "text/x-python",
   "name": "python",
   "nbconvert_exporter": "python",
   "pygments_lexer": "ipython3",
   "version": "3.11.7"
  }
 },
 "nbformat": 4,
 "nbformat_minor": 5
}
