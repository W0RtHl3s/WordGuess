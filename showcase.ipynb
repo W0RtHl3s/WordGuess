{
 "cells": [
  {
   "cell_type": "code",
   "execution_count": 2,
   "id": "891f242f",
   "metadata": {},
   "outputs": [
    {
     "data": {
      "text/plain": [
       "False"
      ]
     },
     "execution_count": 2,
     "metadata": {},
     "output_type": "execute_result"
    }
   ],
   "source": [
    "from src.utils import generate_csv_data\n",
    "from src.shared import singleton_engine\n",
    "from src.models import WordsEn\n",
    "from src.models import GetWordEn\n",
    "from sqlalchemy import text\n",
    "from pathlib import Path\n",
    "from dotenv import load_dotenv\n",
    "from pprint import pprint\n",
    "\n",
    "load_dotenv(dotenv_path=Path.cwd(), override=True)"
   ]
  },
  {
   "cell_type": "code",
   "execution_count": 3,
   "id": "112c6891",
   "metadata": {},
   "outputs": [],
   "source": [
    "# Might be my skill issue or kernel's chaos, but in notebook downloading is extremly slow, so don't use util for csv generation with preloaded_data=False here\n",
    "generated_csv_path = generate_csv_data()"
   ]
  },
  {
   "cell_type": "code",
   "execution_count": null,
   "id": "d1c3fdcd",
   "metadata": {},
   "outputs": [
    {
     "name": "stdout",
     "output_type": "stream",
     "text": [
      "Collecting nltk\n",
      "  Using cached nltk-3.9.2-py3-none-any.whl.metadata (3.2 kB)\n",
      "Collecting click (from nltk)\n",
      "  Using cached click-8.3.0-py3-none-any.whl.metadata (2.6 kB)\n",
      "Collecting joblib (from nltk)\n",
      "  Using cached joblib-1.5.2-py3-none-any.whl.metadata (5.6 kB)\n",
      "Collecting regex>=2021.8.3 (from nltk)\n",
      "  Using cached regex-2025.9.18-cp311-cp311-win_amd64.whl.metadata (41 kB)\n",
      "Collecting tqdm (from nltk)\n",
      "  Using cached tqdm-4.67.1-py3-none-any.whl.metadata (57 kB)\n",
      "Requirement already satisfied: colorama in d:\\projects\\wordguess\\.venv\\lib\\site-packages (from click->nltk) (0.4.6)\n",
      "Using cached nltk-3.9.2-py3-none-any.whl (1.5 MB)\n",
      "Using cached regex-2025.9.18-cp311-cp311-win_amd64.whl (276 kB)\n",
      "Using cached click-8.3.0-py3-none-any.whl (107 kB)\n",
      "Using cached joblib-1.5.2-py3-none-any.whl (308 kB)\n",
      "Using cached tqdm-4.67.1-py3-none-any.whl (78 kB)\n",
      "Installing collected packages: tqdm, regex, joblib, click, nltk\n",
      "\n",
      "   ---------------------------------------- 0/5 [tqdm]\n",
      "   -------- ------------------------------- 1/5 [regex]\n",
      "   ---------------- ----------------------- 2/5 [joblib]\n",
      "   ---------------- ----------------------- 2/5 [joblib]\n",
      "   ---------------- ----------------------- 2/5 [joblib]\n",
      "   ---------------- ----------------------- 2/5 [joblib]\n",
      "   ------------------------ --------------- 3/5 [click]\n",
      "   ------------------------ --------------- 3/5 [click]\n",
      "   -------------------------------- ------- 4/5 [nltk]\n",
      "   -------------------------------- ------- 4/5 [nltk]\n",
      "   -------------------------------- ------- 4/5 [nltk]\n",
      "   -------------------------------- ------- 4/5 [nltk]\n",
      "   -------------------------------- ------- 4/5 [nltk]\n",
      "   -------------------------------- ------- 4/5 [nltk]\n",
      "   -------------------------------- ------- 4/5 [nltk]\n",
      "   -------------------------------- ------- 4/5 [nltk]\n",
      "   -------------------------------- ------- 4/5 [nltk]\n",
      "   -------------------------------- ------- 4/5 [nltk]\n",
      "   -------------------------------- ------- 4/5 [nltk]\n",
      "   -------------------------------- ------- 4/5 [nltk]\n",
      "   -------------------------------- ------- 4/5 [nltk]\n",
      "   -------------------------------- ------- 4/5 [nltk]\n",
      "   -------------------------------- ------- 4/5 [nltk]\n",
      "   -------------------------------- ------- 4/5 [nltk]\n",
      "   -------------------------------- ------- 4/5 [nltk]\n",
      "   -------------------------------- ------- 4/5 [nltk]\n",
      "   -------------------------------- ------- 4/5 [nltk]\n",
      "   -------------------------------- ------- 4/5 [nltk]\n",
      "   -------------------------------- ------- 4/5 [nltk]\n",
      "   -------------------------------- ------- 4/5 [nltk]\n",
      "   ---------------------------------------- 5/5 [nltk]\n",
      "\n",
      "Successfully installed click-8.3.0 joblib-1.5.2 nltk-3.9.2 regex-2025.9.18 tqdm-4.67.1\n"
     ]
    },
    {
     "name": "stderr",
     "output_type": "stream",
     "text": [
      "[nltk_data] Downloading package wordnet to\n",
      "[nltk_data]     C:\\Users\\W0RtHl3s\\AppData\\Roaming\\nltk_data...\n",
      "[nltk_data]   Package wordnet is already up-to-date!\n"
     ]
    },
    {
     "data": {
      "text/plain": [
       "True"
      ]
     },
     "execution_count": 6,
     "metadata": {},
     "output_type": "execute_result"
    }
   ],
   "source": [
    "%pip install nltk\n",
    "import nltk\n",
    "nltk.download('wordnet')"
   ]
  },
  {
   "cell_type": "code",
   "execution_count": 7,
   "id": "f9cc17ad",
   "metadata": {},
   "outputs": [
    {
     "data": {
      "text/plain": [
       "'unlikeliest'"
      ]
     },
     "execution_count": 7,
     "metadata": {},
     "output_type": "execute_result"
    }
   ],
   "source": [
    "from nltk.stem import WordNetLemmatizer\n",
    "lemmatizer = WordNetLemmatizer()\n",
    "lemmatizer.lemmatize('unlikeliest', 'a')"
   ]
  },
  {
   "attachments": {
    "image.png": {
     "image/png": "[encoded data removed]"
    }
   },
   "cell_type": "markdown",
   "id": "129335a5",
   "metadata": {},
   "source": [
    "As you can see, widespread WordNetLemmatizer solution cannot find correct form of word 'unlikeliest', but contexto can, so we should try smthn else![image.png](attachment:image.png)"
   ]
  },
  {
   "cell_type": "markdown",
   "id": "7bb67db1",
   "metadata": {},
   "source": [
    "Next, it is better to run in terminal, not here, so:"
   ]
  },
  {
   "cell_type": "markdown",
   "id": "d972a3c4",
   "metadata": {},
   "source": [
    "```bash\n",
    "pip uninstall gensim\n",
    "pip uninstall numpy\n",
    "pip uninstall scipy\n",
    "pip install spacy\n",
    "python -m spacy download en_core_web_lg\n",
    "pip install spacy-lookups-data\n",
    "```"
   ]
  },
  {
   "cell_type": "markdown",
   "id": "7602de29",
   "metadata": {},
   "source": [
    "If code below doesn't work, try restarting the current kernel"
   ]
  },
  {
   "cell_type": "code",
   "execution_count": 1,
   "id": "672dd3f9",
   "metadata": {},
   "outputs": [
    {
     "name": "stdout",
     "output_type": "stream",
     "text": [
      "unlikely\n"
     ]
    }
   ],
   "source": [
    "import spacy\n",
    "\n",
    "model = spacy.load('en_core_web_lg')\n",
    "model.remove_pipe(\"lemmatizer\")\n",
    "model.add_pipe(\"lemmatizer\", config={\"mode\": \"lookup\"}).initialize()\n",
    "\n",
    "word = model('unlikeliest')\n",
    "\n",
    "for token in word:\n",
    "    print(token.lemma_)\n"
   ]
  },
  {
   "cell_type": "code",
   "execution_count": 2,
   "id": "1f2617b7",
   "metadata": {},
   "outputs": [
    {
     "name": "stdout",
     "output_type": "stream",
     "text": [
      "0.8016854524612427\n",
      "0.8215553164482117\n"
     ]
    }
   ],
   "source": [
    "cat_token = model('cat')[0]\n",
    "dog_token = model('dog')[0]\n",
    "kitten_token = model('kitten')[0]\n",
    "\n",
    "print(cat_token.similarity(dog_token))\n",
    "print(cat_token.similarity(kitten_token))"
   ]
  },
  {
   "cell_type": "code",
   "execution_count": 4,
   "id": "d67e605b",
   "metadata": {},
   "outputs": [],
   "source": [
    "# Used single time for creating extension, table, index and copying data from generated .csv file\n",
    "with singleton_engine.connect() as conn:\n",
    "    conn.execute(text('CREATE EXTENSION IF NOT EXISTS vector'))\n",
    "    creation_query = \"\"\"\n",
    "                        CREATE TABLE words_en (\n",
    "                        id UUID DEFAULT gen_random_uuid() PRIMARY KEY,\n",
    "                        word varchar(20) NOT NULL,\n",
    "                        embedding vector(300) \n",
    "                        );\n",
    "                        CREATE INDEX ON words_en USING hnsw (embedding vector_cosine_ops);\n",
    "                     \"\"\"\n",
    "    conn.execute(text(creation_query))\n",
    "    copy_query = f\"\"\"\n",
    "                    COPY words_en (word, embedding) FROM '{generated_csv_path}' DELIMITER ',' CSV;\n",
    "                 \"\"\"\n",
    "    conn.execute(text(copy_query))\n",
    "    conn.commit()"
   ]
  },
  {
   "cell_type": "code",
   "execution_count": 5,
   "id": "088a9fda",
   "metadata": {},
   "outputs": [
    {
     "name": "stdout",
     "output_type": "stream",
     "text": [
      "[GetWordEn(word='woman', distance=1.0),\n",
      " GetWordEn(word='man', distance=0.7664013747067495),\n",
      " GetWordEn(word='girl', distance=0.7494641774911672),\n",
      " GetWordEn(word='teenager', distance=0.631708604958935),\n",
      " GetWordEn(word='lady', distance=0.6288786571651082),\n",
      " GetWordEn(word='mother', distance=0.6076306670085915),\n",
      " GetWordEn(word='policewoman', distance=0.6069462721551703),\n",
      " GetWordEn(word='boy', distance=0.5975908768400086),\n",
      " GetWordEn(word='she', distance=0.5641393359770321),\n",
      " GetWordEn(word='person', distance=0.5470173400209332)]\n"
     ]
    }
   ],
   "source": [
    "# Test query to verify everything works smoothly\n",
    "def test_cosine_similarity(word: str, limit: int) -> list[GetWordEn]:\n",
    "    with singleton_engine.connect() as conn:\n",
    "        test_query = f\"\"\"\n",
    "                        SELECT word, 1 - (embedding <=> (SELECT embedding from words_en WHERE word = :word)) as distance\n",
    "                        FROM words_en\n",
    "                        ORDER BY distance DESC\n",
    "                        LIMIT :limit;\n",
    "                     \"\"\"\n",
    "        result = conn.execute(text(test_query), {\"word\": word, \"limit\": limit}).all()\n",
    "    similar_words = []\n",
    "    for row in result:\n",
    "        similar_words.append(GetWordEn(word=row[0], distance=row[1]))\n",
    "    \n",
    "    return similar_words\n",
    "\n",
    "pprint(test_cosine_similarity(word='woman', limit=10))"
   ]
  }
 ],
 "metadata": {
  "kernelspec": {
   "display_name": ".venv",
   "language": "python",
   "name": "python3"
  },
  "language_info": {
   "codemirror_mode": {
    "name": "ipython",
    "version": 3
   },
   "file_extension": ".py",
   "mimetype": "text/x-python",
   "name": "python",
   "nbconvert_exporter": "python",
   "pygments_lexer": "ipython3",
   "version": "3.11.7"
  }
 },
 "nbformat": 4,
 "nbformat_minor": 5
}
